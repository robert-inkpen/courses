{
 "cells": [
  {
   "cell_type": "code",
   "execution_count": 4,
   "metadata": {},
   "outputs": [],
   "source": [
    "# This is a catalog of items, categories and subcategories.\n",
    "\n",
    "item_catalog = [\n",
    "    {\n",
    "        \"item_id\": 1,\n",
    "        \"item_description\": \"Water Bottle\",\n",
    "        \"category_name\": \"Beverages\",\n",
    "        \"sub_category\": \"Water\"\n",
    "    },\n",
    "    {\n",
    "        \"item_id\": 2,\n",
    "        \"item_description\": \"Soft Drink\",\n",
    "        \"category_name\": \"Beverages\",\n",
    "        \"sub_category\": \"Soda\"\n",
    "    },\n",
    "    {\n",
    "        \"item_id\": 3,\n",
    "        \"item_description\": \"Pound Cake\",\n",
    "        \"category_name\": \"Cakes\",\n",
    "        \"sub_category\": \"Fresh Cakes\"\n",
    "    },\n",
    "]\n",
    "\n",
    "# Below is a set of transcations\n",
    "\n",
    "transcations = [\n",
    "    {\n",
    "        \"week\": 1,\n",
    "        \"transaction_id\": 0,\n",
    "        \"item_id\": 1,\n",
    "        \"spend\": 10240\n",
    "    },\n",
    "    {\n",
    "        \"week\": 2,\n",
    "        \"transaction_id\": 1,\n",
    "        \"item_id\": 1,\n",
    "        \"spend\": 2300\n",
    "    },\n",
    "    {\n",
    "        \"week\": 1,\n",
    "        \"transaction_id\": 2,\n",
    "        \"item_id\": 1,\n",
    "        \"spend\": 8500\n",
    "    },\n",
    "    {\n",
    "        \"week\": 1,\n",
    "        \"transaction_id\": 2,\n",
    "        \"item_id\": 2,\n",
    "        \"spend\": 7000\n",
    "    },\n",
    "    {\n",
    "        \"week\": 2,\n",
    "        \"transaction_id\": 3,\n",
    "        \"item_id\": 1,\n",
    "        \"spend\": 1300\n",
    "    },\n",
    "    {\n",
    "        \"week\": 2,\n",
    "        \"transaction_id\": 4,\n",
    "        \"item_id\": 2,\n",
    "        \"spend\": 4500\n",
    "    },\n",
    "    {\n",
    "        \"week\": 3,\n",
    "        \"transaction_id\": 5,\n",
    "        \"item_id\": 2,\n",
    "        \"spend\": 2500\n",
    "    }\n",
    "]\n",
    "\n",
    "\n"
   ]
  },
  {
   "cell_type": "code",
   "execution_count": 5,
   "metadata": {},
   "outputs": [],
   "source": [
    "spend_week_1 =[d['spend'] for d in transcations if d['week'] == 1]"
   ]
  },
  {
   "cell_type": "code",
   "execution_count": 6,
   "metadata": {},
   "outputs": [],
   "source": [
    "week_1_total = sum(spend_week_1)\n",
    "week_1_sort =  sorted(spend_week_1, reverse=True)"
   ]
  }
 ],
 "metadata": {
  "kernelspec": {
   "display_name": "Python 3",
   "language": "python",
   "name": "python3"
  },
  "language_info": {
   "codemirror_mode": {
    "name": "ipython",
    "version": 3
   },
   "file_extension": ".py",
   "mimetype": "text/x-python",
   "name": "python",
   "nbconvert_exporter": "python",
   "pygments_lexer": "ipython3",
   "version": "3.11.0"
  },
  "orig_nbformat": 4,
  "vscode": {
   "interpreter": {
    "hash": "1221456b874443cc4020db4a2b83a6fbdd5cefeaaa752c12b1f69ea4ada0c4fe"
   }
  }
 },
 "nbformat": 4,
 "nbformat_minor": 2
}
